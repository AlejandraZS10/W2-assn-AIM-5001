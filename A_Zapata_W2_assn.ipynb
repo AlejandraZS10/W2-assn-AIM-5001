{
 "cells": [
  {
   "cell_type": "markdown",
   "metadata": {},
   "source": [
    "# Week 2 Assignment\n",
    "\n",
    "### Preparation\n",
    "\n",
    "This section involded familiaring myself with the tasks and importing the csv. I created a new list with the sublists so I could work with each 'car' and create the new lists. "
   ]
  },
  {
   "cell_type": "code",
   "execution_count": 5,
   "metadata": {},
   "outputs": [
    {
     "name": "stdout",
     "output_type": "stream",
     "text": [
      "['high', 'high', '2', '4', 'med', 'low', 'unacc']\n",
      "['high', 'high', '4', 'more', 'small', 'high', 'acc']\n",
      "['high', 'high', '4', 'more', 'big', 'low', 'unacc']\n",
      "['high', 'low', '2', 'more', 'big', 'high', 'acc']\n",
      "['vhigh', 'low', '3', '2', 'med', 'med', 'unacc']\n",
      "['low', 'high', '2', '2', 'small', 'low', 'unacc']\n",
      "['med', 'med', '4', 'more', 'med', 'high', 'vgood']\n",
      "['low', 'low', '3', '2', 'big', 'med', 'unacc']\n",
      "['vhigh', 'low', '2', '2', 'small', 'low', 'unacc']\n",
      "['vhigh', 'high', '4', '4', 'med', 'low', 'unacc']\n",
      "['low', 'low', '2', '2', 'med', 'med', 'unacc']\n",
      "['vhigh', 'low', '4', 'more', 'small', 'high', 'acc']\n",
      "['high', 'low', '2', '4', 'big', 'med', 'acc']\n",
      "['low', 'vhigh', '3', 'more', 'big', 'low', 'unacc']\n",
      "['high', 'low', '5more', '2', 'big', 'med', 'unacc']\n",
      "['vhigh', 'high', '2', 'more', 'med', 'high', 'unacc']\n",
      "['med', 'med', '2', '2', 'small', 'low', 'unacc']\n",
      "['high', 'low', '5more', '4', 'med', 'high', 'acc']\n",
      "['low', 'low', '3', 'more', 'med', 'high', 'vgood']\n",
      "['low', 'low', '2', '2', 'big', 'med', 'unacc']\n",
      "['med', 'high', '4', '2', 'big', 'high', 'unacc']\n",
      "['low', 'low', '2', '2', 'small', 'high', 'unacc']\n",
      "['vhigh', 'high', '5more', '4', 'med', 'med', 'unacc']\n",
      "['med', 'vhigh', '2', '2', 'big', 'low', 'unacc']\n",
      "['low', 'vhigh', '4', '4', 'big', 'low', 'unacc']\n",
      "['vhigh', 'low', '3', 'more', 'big', 'low', 'unacc']\n",
      "['med', 'vhigh', '3', '4', 'small', 'low', 'unacc']\n",
      "['high', 'high', '3', '4', 'med', 'med', 'unacc']\n",
      "['low', 'high', '5more', '2', 'big', 'low', 'unacc']\n",
      "['med', 'high', '5more', '2', 'med', 'med', 'unacc']\n",
      "['high', 'low', '3', '4', 'med', 'high', 'acc']\n",
      "['high', 'vhigh', '5more', '4', 'med', 'med', 'unacc']\n",
      "['low', 'low', '5more', '2', 'med', 'low', 'unacc']\n",
      "['vhigh', 'vhigh', '4', '2', 'big', 'high', 'unacc']\n",
      "['high', 'low', '3', '2', 'big', 'high', 'unacc']\n"
     ]
    }
   ],
   "source": [
    "import csv\n",
    "# be sure to update the path below to reflect your own environment!!\n",
    "# also be sure that the code is properly indented after you paste it!\n",
    "with open(r'/Users/alejandrazapatasoveranez/Dropbox/Yeshiva/AIM 5001-200/W2 Assignment/cars-sample35.txt') as csvfile:\n",
    " readCSV = csv.reader(csvfile)\n",
    " for row in readCSV:\n",
    "  # print each row as read by the csv.reader function\n",
    "  print(row)"
   ]
  },
  {
   "cell_type": "code",
   "execution_count": 6,
   "metadata": {},
   "outputs": [
    {
     "name": "stdout",
     "output_type": "stream",
     "text": [
      "[['high', 'high', '2', '4', 'med', 'low', 'unacc'], ['high', 'high', '4', 'more', 'small', 'high', 'acc'], ['high', 'high', '4', 'more', 'big', 'low', 'unacc'], ['high', 'low', '2', 'more', 'big', 'high', 'acc'], ['vhigh', 'low', '3', '2', 'med', 'med', 'unacc'], ['low', 'high', '2', '2', 'small', 'low', 'unacc'], ['med', 'med', '4', 'more', 'med', 'high', 'vgood'], ['low', 'low', '3', '2', 'big', 'med', 'unacc'], ['vhigh', 'low', '2', '2', 'small', 'low', 'unacc'], ['vhigh', 'high', '4', '4', 'med', 'low', 'unacc'], ['low', 'low', '2', '2', 'med', 'med', 'unacc'], ['vhigh', 'low', '4', 'more', 'small', 'high', 'acc'], ['high', 'low', '2', '4', 'big', 'med', 'acc'], ['low', 'vhigh', '3', 'more', 'big', 'low', 'unacc'], ['high', 'low', '5more', '2', 'big', 'med', 'unacc'], ['vhigh', 'high', '2', 'more', 'med', 'high', 'unacc'], ['med', 'med', '2', '2', 'small', 'low', 'unacc'], ['high', 'low', '5more', '4', 'med', 'high', 'acc'], ['low', 'low', '3', 'more', 'med', 'high', 'vgood'], ['low', 'low', '2', '2', 'big', 'med', 'unacc'], ['med', 'high', '4', '2', 'big', 'high', 'unacc'], ['low', 'low', '2', '2', 'small', 'high', 'unacc'], ['vhigh', 'high', '5more', '4', 'med', 'med', 'unacc'], ['med', 'vhigh', '2', '2', 'big', 'low', 'unacc'], ['low', 'vhigh', '4', '4', 'big', 'low', 'unacc'], ['vhigh', 'low', '3', 'more', 'big', 'low', 'unacc'], ['med', 'vhigh', '3', '4', 'small', 'low', 'unacc'], ['high', 'high', '3', '4', 'med', 'med', 'unacc'], ['low', 'high', '5more', '2', 'big', 'low', 'unacc'], ['med', 'high', '5more', '2', 'med', 'med', 'unacc'], ['high', 'low', '3', '4', 'med', 'high', 'acc'], ['high', 'vhigh', '5more', '4', 'med', 'med', 'unacc'], ['low', 'low', '5more', '2', 'med', 'low', 'unacc'], ['vhigh', 'vhigh', '4', '2', 'big', 'high', 'unacc'], ['high', 'low', '3', '2', 'big', 'high', 'unacc']]\n"
     ]
    }
   ],
   "source": [
    "# I created the a list where each sublist has the seven values for each car.\n",
    "\n",
    "carslist=[['high', 'high', '2', '4', 'med', 'low', 'unacc'],\n",
    "['high', 'high', '4', 'more', 'small', 'high', 'acc'],\n",
    "['high', 'high', '4', 'more', 'big', 'low', 'unacc'],\n",
    "['high', 'low', '2', 'more', 'big', 'high', 'acc'],\n",
    "['vhigh', 'low', '3', '2', 'med', 'med', 'unacc'],\n",
    "['low', 'high', '2', '2', 'small', 'low', 'unacc'],\n",
    "['med', 'med', '4', 'more', 'med', 'high', 'vgood'],\n",
    "['low', 'low', '3', '2', 'big', 'med', 'unacc'],\n",
    "['vhigh', 'low', '2', '2', 'small', 'low', 'unacc'],\n",
    "['vhigh', 'high', '4', '4', 'med', 'low', 'unacc'],\n",
    "['low', 'low', '2', '2', 'med', 'med', 'unacc'],\n",
    "['vhigh', 'low', '4', 'more', 'small', 'high', 'acc'],\n",
    "['high', 'low', '2', '4', 'big', 'med', 'acc'],\n",
    "['low', 'vhigh', '3', 'more', 'big', 'low', 'unacc'],\n",
    "['high', 'low', '5more', '2', 'big', 'med', 'unacc'],\n",
    "['vhigh', 'high', '2', 'more', 'med', 'high', 'unacc'],\n",
    "['med', 'med', '2', '2', 'small', 'low', 'unacc'],\n",
    "['high', 'low', '5more', '4', 'med', 'high', 'acc'],\n",
    "['low', 'low', '3', 'more', 'med', 'high', 'vgood'],\n",
    "['low', 'low', '2', '2', 'big', 'med', 'unacc'],\n",
    "['med', 'high', '4', '2', 'big', 'high', 'unacc'],\n",
    "['low', 'low', '2', '2', 'small', 'high', 'unacc'],\n",
    "['vhigh', 'high', '5more', '4', 'med', 'med', 'unacc'],\n",
    "['med', 'vhigh', '2', '2', 'big', 'low', 'unacc'],\n",
    "['low', 'vhigh', '4', '4', 'big', 'low', 'unacc'],\n",
    "['vhigh', 'low', '3', 'more', 'big', 'low', 'unacc'],\n",
    "['med', 'vhigh', '3', '4', 'small', 'low', 'unacc'],\n",
    "['high', 'high', '3', '4', 'med', 'med', 'unacc'],\n",
    "['low', 'high', '5more', '2', 'big', 'low', 'unacc'],\n",
    "['med', 'high', '5more', '2', 'med', 'med', 'unacc'],\n",
    "['high', 'low', '3', '4', 'med', 'high', 'acc'],\n",
    "['high', 'vhigh', '5more', '4', 'med', 'med', 'unacc'],\n",
    "['low', 'low', '5more', '2', 'med', 'low', 'unacc'],\n",
    "['vhigh', 'vhigh', '4', '2', 'big', 'high', 'unacc'],\n",
    "['high', 'low', '3', '2', 'big', 'high', 'unacc']]\n",
    "\n",
    "print(carslist)"
   ]
  },
  {
   "cell_type": "markdown",
   "metadata": {},
   "source": [
    "## Task 1\n",
    "\n",
    "After converting the original csv file into a list of sublists I did some research on how I could manage each sublist separately. The question I asked myself was: How can I slice each sublist and put those elements into a new list?\n",
    "\n",
    "The following link showed me how to define my own function: https://www.geeksforgeeks.org/python-get-first-element-of-each-sublist/ In this case the function would extract a specific value from each sublist and put it into a new list.\n",
    "\n",
    "Each segment of code is the same function but slicing a different item on the sublists to create the 7 required lists."
   ]
  },
  {
   "cell_type": "code",
   "execution_count": 7,
   "metadata": {},
   "outputs": [
    {
     "name": "stdout",
     "output_type": "stream",
     "text": [
      "['high', 'high', 'high', 'high', 'vhigh', 'low', 'med', 'low', 'vhigh', 'vhigh', 'low', 'vhigh', 'high', 'low', 'high', 'vhigh', 'med', 'high', 'low', 'low', 'med', 'low', 'vhigh', 'med', 'low', 'vhigh', 'med', 'high', 'low', 'med', 'high', 'high', 'low', 'vhigh', 'high']\n"
     ]
    }
   ],
   "source": [
    "## 1 Price List\n",
    "\n",
    "#Function to slice the sublists into the new list\n",
    "def ExtractPR(carslist): \n",
    "    return [item[0] for item in carslist] \n",
    "\n",
    "print(ExtractPR(carslist))\n"
   ]
  },
  {
   "cell_type": "code",
   "execution_count": 8,
   "metadata": {},
   "outputs": [
    {
     "name": "stdout",
     "output_type": "stream",
     "text": [
      "['high', 'high', 'high', 'low', 'low', 'high', 'med', 'low', 'low', 'high', 'low', 'low', 'low', 'vhigh', 'low', 'high', 'med', 'low', 'low', 'low', 'high', 'low', 'high', 'vhigh', 'vhigh', 'low', 'vhigh', 'high', 'high', 'high', 'low', 'vhigh', 'low', 'vhigh', 'low']\n"
     ]
    }
   ],
   "source": [
    "## 2 Maintenance Cost\n",
    "\n",
    "#Function to slice the sublists into the new list\n",
    "def ExtractMC(carslist): \n",
    "    return [item[1] for item in carslist] \n",
    "\n",
    "print(ExtractMC(carslist))"
   ]
  },
  {
   "cell_type": "code",
   "execution_count": 9,
   "metadata": {},
   "outputs": [
    {
     "name": "stdout",
     "output_type": "stream",
     "text": [
      "['2', '4', '4', '2', '3', '2', '4', '3', '2', '4', '2', '4', '2', '3', '5more', '2', '2', '5more', '3', '2', '4', '2', '5more', '2', '4', '3', '3', '3', '5more', '5more', '3', '5more', '5more', '4', '3']\n"
     ]
    }
   ],
   "source": [
    "## 3 Number of Doors\n",
    "\n",
    "#Function to slice the sublists into the new list\n",
    "def ExtractND(carslist): \n",
    "    return [item[2] for item in carslist] \n",
    "\n",
    "print(ExtractND(carslist))"
   ]
  },
  {
   "cell_type": "code",
   "execution_count": 10,
   "metadata": {},
   "outputs": [
    {
     "name": "stdout",
     "output_type": "stream",
     "text": [
      "['4', 'more', 'more', 'more', '2', '2', 'more', '2', '2', '4', '2', 'more', '4', 'more', '2', 'more', '2', '4', 'more', '2', '2', '2', '4', '2', '4', 'more', '4', '4', '2', '2', '4', '4', '2', '2', '2']\n"
     ]
    }
   ],
   "source": [
    "## 4 Number of Passengers\n",
    "\n",
    "#Function to slice the sublists into the new list\n",
    "def ExtractNP(carslist): \n",
    "    return [item[3] for item in carslist] \n",
    "\n",
    "print(ExtractNP(carslist))"
   ]
  },
  {
   "cell_type": "code",
   "execution_count": 11,
   "metadata": {},
   "outputs": [
    {
     "name": "stdout",
     "output_type": "stream",
     "text": [
      "['med', 'small', 'big', 'big', 'med', 'small', 'med', 'big', 'small', 'med', 'med', 'small', 'big', 'big', 'big', 'med', 'small', 'med', 'med', 'big', 'big', 'small', 'med', 'big', 'big', 'big', 'small', 'med', 'big', 'med', 'med', 'med', 'med', 'big', 'big']\n"
     ]
    }
   ],
   "source": [
    "## 5 Luggage Capacity\n",
    "\n",
    "#Function to slice the sublists into the new list\n",
    "def ExtractLC(carslist): \n",
    "    return [item[4] for item in carslist] \n",
    "\n",
    "print(ExtractLC(carslist))"
   ]
  },
  {
   "cell_type": "code",
   "execution_count": 12,
   "metadata": {},
   "outputs": [
    {
     "name": "stdout",
     "output_type": "stream",
     "text": [
      "['low', 'high', 'low', 'high', 'med', 'low', 'high', 'med', 'low', 'low', 'med', 'high', 'med', 'low', 'med', 'high', 'low', 'high', 'high', 'med', 'high', 'high', 'med', 'low', 'low', 'low', 'low', 'med', 'low', 'med', 'high', 'med', 'low', 'high', 'high']\n"
     ]
    }
   ],
   "source": [
    "## 6 Safety Rating\n",
    "\n",
    "#Function to slice the sublists into the new list\n",
    "def ExtractSR(carslist): \n",
    "    return [item[5] for item in carslist] \n",
    "\n",
    "print(ExtractSR(carslist))"
   ]
  },
  {
   "cell_type": "code",
   "execution_count": 13,
   "metadata": {},
   "outputs": [
    {
     "name": "stdout",
     "output_type": "stream",
     "text": [
      "['unacc', 'acc', 'unacc', 'acc', 'unacc', 'unacc', 'vgood', 'unacc', 'unacc', 'unacc', 'unacc', 'acc', 'acc', 'unacc', 'unacc', 'unacc', 'unacc', 'acc', 'vgood', 'unacc', 'unacc', 'unacc', 'unacc', 'unacc', 'unacc', 'unacc', 'unacc', 'unacc', 'unacc', 'unacc', 'acc', 'unacc', 'unacc', 'unacc', 'unacc']\n"
     ]
    }
   ],
   "source": [
    "## 7 Classification of Vehicle\n",
    "\n",
    "#Function to slice the sublists into the new list\n",
    "def ExtractCV(carslist): \n",
    "    return [item[6] for item in carslist] \n",
    "\n",
    "print(ExtractCV(carslist))"
   ]
  },
  {
   "cell_type": "markdown",
   "metadata": {},
   "source": [
    "## Task 2\n",
    "\n",
    "For the second task, I looked over the *Price List* I created on Task 1 and found the cars that had 'med' price. First I went ahead and tested this by manually counting because it is a relatively short amount of data. However with further research, I thought I could use **index( )** to obtain the index number and then print from the *carslist* only those models with 'med' price. The **index( )** function had the limitation to do only the first value so I had to do a list comprehension.\n",
    "\n",
    "**Source:** https://www.datacamp.com/community/tutorials/python-list-index\n"
   ]
  },
  {
   "cell_type": "code",
   "execution_count": 29,
   "metadata": {},
   "outputs": [
    {
     "data": {
      "text/plain": [
       "[6, 16, 20, 23, 26, 29]"
      ]
     },
     "execution_count": 29,
     "metadata": {},
     "output_type": "execute_result"
    }
   ],
   "source": [
    "#List comprehension to obtain the indexes with a \"med\" value\n",
    "\n",
    "[i for i, n in enumerate(ExtractPR(carslist)) if n == \"med\"]"
   ]
  },
  {
   "cell_type": "code",
   "execution_count": 52,
   "metadata": {},
   "outputs": [
    {
     "name": "stdout",
     "output_type": "stream",
     "text": [
      "[['med', 'med', '4', 'more', 'med', 'high', 'vgood'], ['med', 'med', '2', '2', 'small', 'low', 'unacc'], ['med', 'high', '4', '2', 'big', 'high', 'unacc'], ['med', 'vhigh', '2', '2', 'big', 'low', 'unacc'], ['med', 'vhigh', '3', '4', 'small', 'low', 'unacc'], ['med', 'high', '5more', '2', 'med', 'med', 'unacc']]\n"
     ]
    }
   ],
   "source": [
    "#This is a Medium Price list\n",
    "\n",
    "medlist_1=[carslist[6],carslist[16],carslist[20],carslist[23],carslist[26],carslist[29]]\n",
    "\n",
    "print(medlist_1)"
   ]
  },
  {
   "cell_type": "markdown",
   "metadata": {},
   "source": [
    "## Task 3\n",
    "\n",
    "For the third task, I used a similar approach to the Task 1. I defined an Extract, to take only the values of the Number of Passengers from the sublists in my Medium Price list."
   ]
  },
  {
   "cell_type": "code",
   "execution_count": 31,
   "metadata": {},
   "outputs": [
    {
     "name": "stdout",
     "output_type": "stream",
     "text": [
      "['4', '2', '4', '2', '3', '5more']\n"
     ]
    }
   ],
   "source": [
    "# Extract MED_PASS is the list of number of passengers for the medium price list.\n",
    "\n",
    "def ExtractMED_PASS(medlist_1): \n",
    "    return [item[2] for item in medlist_1] \n",
    "\n",
    "print(ExtractMED_PASS(medlist_1))"
   ]
  },
  {
   "cell_type": "markdown",
   "metadata": {},
   "source": [
    "## Task 4\n",
    "\n",
    "This task required a new list with two conditions.\n",
    "1. Cars that have a 'high' value on the price list.\n",
    "2. Cars that do not have a 'low' maintenance cost. \n",
    "\n",
    "I used the same list comprehension from before to create two lists with the indexes that met said conditions. Then I defined an intersection between both lists to obtain the indexes that met both conditions. \n",
    "\n",
    "The final list was created by indicating the indexes that meet both conditions on the original *cars list*.\n",
    "\n",
    "**Source:** https://www.geeksforgeeks.org/python-intersection-two-lists/"
   ]
  },
  {
   "cell_type": "code",
   "execution_count": 38,
   "metadata": {},
   "outputs": [
    {
     "name": "stdout",
     "output_type": "stream",
     "text": [
      "[0, 1, 2, 27, 31]\n"
     ]
    }
   ],
   "source": [
    "#First we define a simple way to illustrate the intersection in two lists\n",
    "def intersection(highprice_list, notlowm_list): \n",
    "    #define the list with a high price and NO low maintenance cost\n",
    "    task4_list = [value for value in highprice_list if value in notlowm_list] \n",
    "    return task4_list\n",
    "\n",
    "#Via list comprehension we obtain the indexes for each condition clause required on Task 4\n",
    "\n",
    "highprice_list=[i for i, n in enumerate(ExtractPR(carslist)) if n == \"high\"]\n",
    "\n",
    "notlowm_list=[i for i, n in enumerate(ExtractMC(carslist)) if n != \"low\"]\n",
    "\n",
    "print(intersection(highprice_list,notlowm_list))"
   ]
  },
  {
   "cell_type": "code",
   "execution_count": 50,
   "metadata": {},
   "outputs": [
    {
     "name": "stdout",
     "output_type": "stream",
     "text": [
      "[['high', 'high', '2', '4', 'med', 'low', 'unacc'], ['high', 'high', '4', 'more', 'small', 'high', 'acc'], ['high', 'high', '4', 'more', 'big', 'low', 'unacc'], ['high', 'high', '3', '4', 'med', 'med', 'unacc'], ['high', 'vhigh', '5more', '4', 'med', 'med', 'unacc']]\n"
     ]
    }
   ],
   "source": [
    "#This is the new list with all the cars that have a 'High' Price and NOT a 'Low' Maintenance Cost\n",
    "\n",
    "high_notlow_list=[carslist[0],carslist[1],carslist[2],carslist[27],carslist[31]]\n",
    "\n",
    "print(high_notlow_list)"
   ]
  },
  {
   "cell_type": "markdown",
   "metadata": {},
   "source": [
    "## Task 5\n",
    "\n",
    "I used the same method as Task 4 where I find the indexes with a list comprehension and define an intersection of both lists to obtain the indexes that meet both conditions.\n",
    "\n",
    "Conditions for Task 5:\n",
    "\n",
    "1. Cars with two doors\n",
    "2. Cars with a value of \"big\" Luggage Capacity"
   ]
  },
  {
   "cell_type": "code",
   "execution_count": 57,
   "metadata": {},
   "outputs": [
    {
     "name": "stdout",
     "output_type": "stream",
     "text": [
      "[2, 3, 12, 14, 34]\n"
     ]
    }
   ],
   "source": [
    "#First we define a simple way to illustrate the intersection in two lists\n",
    "def intersection(twodoors_list, biglugg_list): \n",
    "    #define the list with two doors and a value of \"big\" luggage capacity\n",
    "    task5_list = [value for value in twodoors_list if value in biglugg_list] \n",
    "    return task5_list\n",
    "\n",
    "#Via list comprehension we obtain the indexes for each condition clause required on Task 5\n",
    "\n",
    "twodoors_list=[i for i, n in enumerate(ExtractND(carslist)) if n == '2']\n",
    "\n",
    "biglugg_list=[i for i, n in enumerate(ExtractLC(carslist)) if n == \"big\"]\n",
    "\n",
    "print(intersection(highprice_list,biglugg_list))"
   ]
  },
  {
   "cell_type": "code",
   "execution_count": 58,
   "metadata": {},
   "outputs": [
    {
     "name": "stdout",
     "output_type": "stream",
     "text": [
      "[['high', 'high', '4', 'more', 'big', 'low', 'unacc'], ['high', 'low', '2', 'more', 'big', 'high', 'acc'], ['high', 'low', '2', '4', 'big', 'med', 'acc'], ['high', 'low', '5more', '2', 'big', 'med', 'unacc'], ['high', 'low', '3', '2', 'big', 'high', 'unacc']]\n"
     ]
    }
   ],
   "source": [
    "#This is the new list with all the cars that have a 2 doors and a 'Big' Luggage Capacity\n",
    "\n",
    "doors_lugg_list=[carslist[2],carslist[3],carslist[12],carslist[14],carslist[34]]\n",
    "\n",
    "print(doors_lugg_list)"
   ]
  },
  {
   "cell_type": "markdown",
   "metadata": {},
   "source": [
    "### Task 6\n",
    "\n",
    "For this final task, I created a new list with the values of the number of doors to simplify the name. By obtaining the indexes of the '5more' values I changed the value to '5'. Then I used the **int( )** to create a new list-via list comprehension-of only integer values and then used the arithmetic functions embedded on python to calculate the average number of doors."
   ]
  },
  {
   "cell_type": "code",
   "execution_count": 28,
   "metadata": {},
   "outputs": [
    {
     "data": {
      "text/plain": [
       "[14, 17, 22, 28, 29, 31, 32]"
      ]
     },
     "execution_count": 28,
     "metadata": {},
     "output_type": "execute_result"
    }
   ],
   "source": [
    "#Obtain the index numbers for the '5more' items.\n",
    "[i for i, n in enumerate(ExtractND(carslist)) if n == \"5more\"]"
   ]
  },
  {
   "cell_type": "code",
   "execution_count": 14,
   "metadata": {},
   "outputs": [
    {
     "name": "stdout",
     "output_type": "stream",
     "text": [
      "['2', '4', '4', '2', '3', '2', '4', '3', '2', '4', '2', '4', '2', '3', '5more', '2', '2', '5more', '3', '2', '4', '2', '5more', '2', '4', '3', '3', '3', '5more', '5more', '3', '5more', '5more', '4', '3']\n"
     ]
    }
   ],
   "source": [
    "print(ExtractND(carslist))"
   ]
  },
  {
   "cell_type": "code",
   "execution_count": 56,
   "metadata": {},
   "outputs": [],
   "source": [
    "#Create a new list with the doors values to make operations easier.\n",
    "doors=['2', '4', '4', '2', '3', '2', '4', '3', '2', '4', '2', '4', '2', '3', '5more', '2', '2', '5more', '3', '2', '4', '2', '5more', '2', '4', '3', '3', '3', '5more', '5more', '3', '5more', '5more', '4', '3']"
   ]
  },
  {
   "cell_type": "code",
   "execution_count": 51,
   "metadata": {},
   "outputs": [],
   "source": [
    "#Replace the items '5more with '5' using the individual index number.\n",
    "doors[14]='5'\n",
    "doors[17]='5'\n",
    "doors[22]='5'\n",
    "doors[28]='5'\n",
    "doors[29]='5'\n",
    "doors[31]='5'\n",
    "doors[17]='5'"
   ]
  },
  {
   "cell_type": "code",
   "execution_count": 52,
   "metadata": {},
   "outputs": [
    {
     "data": {
      "text/plain": [
       "['2',\n",
       " '4',\n",
       " '4',\n",
       " '2',\n",
       " '3',\n",
       " '2',\n",
       " '4',\n",
       " '3',\n",
       " '2',\n",
       " '4',\n",
       " '2',\n",
       " '4',\n",
       " '2',\n",
       " '3',\n",
       " '5',\n",
       " '2',\n",
       " '2',\n",
       " '5',\n",
       " '3',\n",
       " '2',\n",
       " '4',\n",
       " '2',\n",
       " '5',\n",
       " '2',\n",
       " '4',\n",
       " '3',\n",
       " '3',\n",
       " '3',\n",
       " '5',\n",
       " '5',\n",
       " '3',\n",
       " '5',\n",
       " '5',\n",
       " '4',\n",
       " '3']"
      ]
     },
     "execution_count": 52,
     "metadata": {},
     "output_type": "execute_result"
    }
   ],
   "source": [
    "doors"
   ]
  },
  {
   "cell_type": "code",
   "execution_count": 54,
   "metadata": {},
   "outputs": [
    {
     "data": {
      "text/plain": [
       "[2,\n",
       " 4,\n",
       " 4,\n",
       " 2,\n",
       " 3,\n",
       " 2,\n",
       " 4,\n",
       " 3,\n",
       " 2,\n",
       " 4,\n",
       " 2,\n",
       " 4,\n",
       " 2,\n",
       " 3,\n",
       " 5,\n",
       " 2,\n",
       " 2,\n",
       " 5,\n",
       " 3,\n",
       " 2,\n",
       " 4,\n",
       " 2,\n",
       " 5,\n",
       " 2,\n",
       " 4,\n",
       " 3,\n",
       " 3,\n",
       " 3,\n",
       " 5,\n",
       " 5,\n",
       " 3,\n",
       " 5,\n",
       " 5,\n",
       " 4,\n",
       " 3]"
      ]
     },
     "execution_count": 54,
     "metadata": {},
     "output_type": "execute_result"
    }
   ],
   "source": [
    "#create a new list where all the str are int\n",
    "doors_new = [int(i) for i in doors] \n",
    "doors_new"
   ]
  },
  {
   "cell_type": "code",
   "execution_count": 55,
   "metadata": {},
   "outputs": [
    {
     "name": "stdout",
     "output_type": "stream",
     "text": [
      "3.3142857142857145\n"
     ]
    }
   ],
   "source": [
    "#Used arithmetic functions of python to calculate the average\n",
    "doors_avg = sum(doors_new)/len(doors_new)\n",
    "print(doors_avg)"
   ]
  }
 ],
 "metadata": {
  "kernelspec": {
   "display_name": "Python 3",
   "language": "python",
   "name": "python3"
  },
  "language_info": {
   "codemirror_mode": {
    "name": "ipython",
    "version": 3
   },
   "file_extension": ".py",
   "mimetype": "text/x-python",
   "name": "python",
   "nbconvert_exporter": "python",
   "pygments_lexer": "ipython3",
   "version": "3.7.6"
  }
 },
 "nbformat": 4,
 "nbformat_minor": 4
}
